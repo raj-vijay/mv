{
  "nbformat": 4,
  "nbformat_minor": 0,
  "metadata": {
    "colab": {
      "name": "11. Image Processing Experiments - Contours.ipynb",
      "provenance": [],
      "collapsed_sections": [],
      "authorship_tag": "ABX9TyNtXi4uJz3PNm3LU2NJpC2g",
      "include_colab_link": true
    },
    "kernelspec": {
      "name": "python3",
      "display_name": "Python 3"
    }
  },
  "cells": [
    {
      "cell_type": "markdown",
      "metadata": {
        "id": "view-in-github",
        "colab_type": "text"
      },
      "source": [
        "<a href=\"https://colab.research.google.com/github/raj-vijay/mv/blob/master/Image%20Processing/11_Image_Processing_Experiments_Contours.ipynb\" target=\"_parent\"><img src=\"https://colab.research.google.com/assets/colab-badge.svg\" alt=\"Open In Colab\"/></a>"
      ]
    },
    {
      "cell_type": "markdown",
      "metadata": {
        "id": "o822w_i6eRs0",
        "colab_type": "text"
      },
      "source": [
        "**Contours in Images**"
      ]
    },
    {
      "cell_type": "markdown",
      "metadata": {
        "id": "pmUbcLjg65JY",
        "colab_type": "text"
      },
      "source": [
        "Contours can be explained simply as a curve joining all the continuous points (along the boundary), having same color or intensity. The contours are a useful tool for shape analysis and object detection and recognition."
      ]
    },
    {
      "cell_type": "code",
      "metadata": {
        "colab_type": "code",
        "id": "8J5bGzGq6Sim",
        "colab": {}
      },
      "source": [
        "import matplotlib.pyplot as plt\n",
        "import numpy as np\n",
        "def show_image(image, title='Image', cmap_type='gray'):\n",
        "  plt.imshow(image, cmap=cmap_type)\n",
        "  plt.title(title)\n",
        "  plt.axis('on')\n",
        "  plt.show()"
      ],
      "execution_count": 0,
      "outputs": []
    },
    {
      "cell_type": "code",
      "metadata": {
        "id": "E1D6GzoYZlrn",
        "colab_type": "code",
        "colab": {}
      },
      "source": [
        "def plot_comparison(original, filtered, title_filtered):\n",
        "  fig, (ax1, ax2) = plt.subplots(ncols=2, figsize=(8, 6), sharex=True,\n",
        "  sharey=True)\n",
        "  ax1.imshow(original, cmap=plt.cm.gray)\n",
        "  ax1.set_title('Original')\n",
        "  ax1.axis('off')\n",
        "  ax2.imshow(filtered, cmap=plt.cm.gray)\n",
        "  ax2.set_title(title_filtered)\n",
        "  ax2.axis('off')"
      ],
      "execution_count": 0,
      "outputs": []
    },
    {
      "cell_type": "code",
      "metadata": {
        "id": "6MMKkHqBDoQC",
        "colab_type": "code",
        "outputId": "89630d4e-14ce-4b99-e35b-dafd3528ef97",
        "colab": {
          "base_uri": "https://localhost:8080/",
          "height": 204
        }
      },
      "source": [
        "# Load file\n",
        "!wget https://stoysnetcdn.com/tysm/tysm8875/tysm8875_1.jpg"
      ],
      "execution_count": 3,
      "outputs": [
        {
          "output_type": "stream",
          "text": [
            "--2020-04-26 23:53:32--  https://stoysnetcdn.com/tysm/tysm8875/tysm8875_1.jpg\n",
            "Resolving stoysnetcdn.com (stoysnetcdn.com)... 45.33.35.166, 2600:3c01::f03c:91ff:fe99:fe1a\n",
            "Connecting to stoysnetcdn.com (stoysnetcdn.com)|45.33.35.166|:443... connected.\n",
            "HTTP request sent, awaiting response... 200 OK\n",
            "Length: 91939 (90K) [image/jpeg]\n",
            "Saving to: ‘tysm8875_1.jpg’\n",
            "\n",
            "tysm8875_1.jpg      100%[===================>]  89.78K  --.-KB/s    in 0.1s    \n",
            "\n",
            "2020-04-26 23:53:33 (649 KB/s) - ‘tysm8875_1.jpg’ saved [91939/91939]\n",
            "\n"
          ],
          "name": "stdout"
        }
      ]
    },
    {
      "cell_type": "code",
      "metadata": {
        "id": "YQyeqTeRDt9_",
        "colab_type": "code",
        "colab": {}
      },
      "source": [
        "image = plt.imread('tysm8875_1.jpg')"
      ],
      "execution_count": 0,
      "outputs": []
    },
    {
      "cell_type": "code",
      "metadata": {
        "id": "UIBCNRwlD12g",
        "colab_type": "code",
        "colab": {}
      },
      "source": [
        "# Make the image grayscale\n",
        "from skimage import color\n",
        "image = color.rgb2gray(image)"
      ],
      "execution_count": 0,
      "outputs": []
    },
    {
      "cell_type": "code",
      "metadata": {
        "id": "jBFaHzFwD8D-",
        "colab_type": "code",
        "colab": {}
      },
      "source": [
        "# Obtain the thresh value\n",
        "from skimage.filters import threshold_otsu\n",
        "thresh = threshold_otsu(image)\n",
        "# Apply thresholding\n",
        "thresholded_image = image > thresh"
      ],
      "execution_count": 0,
      "outputs": []
    },
    {
      "cell_type": "code",
      "metadata": {
        "id": "NgFEQuY8JmNy",
        "colab_type": "code",
        "colab": {}
      },
      "source": [
        "# Import the measure module\n",
        "from skimage import measure\n",
        "# Find contours at a constant value of 0.8\n",
        "contours = measure.find_contours(thresholded_image, 0.8)"
      ],
      "execution_count": 0,
      "outputs": []
    },
    {
      "cell_type": "code",
      "metadata": {
        "id": "12E3M4irJn9H",
        "colab_type": "code",
        "colab": {}
      },
      "source": [
        "from skimage import measure\n",
        "from skimage.filters import threshold_otsu\n",
        "# Make the image grayscale\n",
        "image = color.rgb2gray(image)\n",
        "# Obtain the optimal thresh value of the image\n",
        "thresh = threshold_otsu(image)\n",
        "# Apply thresholding and obtain binary image\n",
        "thresholded_image = image > thresh\n",
        "# Find contours at a constant value of 0.8\n",
        "contours = measure.find_contours(thresholded_image, 0.8)"
      ],
      "execution_count": 0,
      "outputs": []
    },
    {
      "cell_type": "code",
      "metadata": {
        "id": "P_KPzj3OJvey",
        "colab_type": "code",
        "outputId": "98047cd8-d030-458a-ead1-034aae021bfc",
        "colab": {
          "base_uri": "https://localhost:8080/",
          "height": 1000
        }
      },
      "source": [
        "for contour in contours:\n",
        "  print(contour.shape)"
      ],
      "execution_count": 9,
      "outputs": [
        {
          "output_type": "stream",
          "text": [
            "(165, 2)\n",
            "(27, 2)\n",
            "(11, 2)\n",
            "(25, 2)\n",
            "(425, 2)\n",
            "(163, 2)\n",
            "(5, 2)\n",
            "(165, 2)\n",
            "(395, 2)\n",
            "(29, 2)\n",
            "(5, 2)\n",
            "(21, 2)\n",
            "(5, 2)\n",
            "(165, 2)\n",
            "(33, 2)\n",
            "(23, 2)\n",
            "(27, 2)\n",
            "(23, 2)\n",
            "(167, 2)\n",
            "(9, 2)\n",
            "(29, 2)\n",
            "(167, 2)\n",
            "(23, 2)\n",
            "(5, 2)\n",
            "(35, 2)\n",
            "(23, 2)\n",
            "(7, 2)\n",
            "(165, 2)\n",
            "(27, 2)\n",
            "(25, 2)\n",
            "(165, 2)\n",
            "(15, 2)\n",
            "(31, 2)\n",
            "(23, 2)\n",
            "(169, 2)\n",
            "(31, 2)\n",
            "(5, 2)\n",
            "(25, 2)\n",
            "(5, 2)\n",
            "(171, 2)\n",
            "(29, 2)\n",
            "(25, 2)\n",
            "(171, 2)\n",
            "(29, 2)\n",
            "(17, 2)\n",
            "(173, 2)\n",
            "(173, 2)\n",
            "(369, 2)\n",
            "(31, 2)\n",
            "(175, 2)\n",
            "(21, 2)\n",
            "(473, 2)\n",
            "(175, 2)\n",
            "(175, 2)\n",
            "(31, 2)\n",
            "(29, 2)\n",
            "(19, 2)\n",
            "(11, 2)\n",
            "(21, 2)\n",
            "(33, 2)\n",
            "(25, 2)\n",
            "(5, 2)\n",
            "(23, 2)\n",
            "(21, 2)\n",
            "(179, 2)\n",
            "(177, 2)\n",
            "(27, 2)\n",
            "(19, 2)\n",
            "(29, 2)\n",
            "(21, 2)\n",
            "(175, 2)\n",
            "(177, 2)\n",
            "(5, 2)\n",
            "(29, 2)\n",
            "(21, 2)\n",
            "(21, 2)\n",
            "(33, 2)\n",
            "(25, 2)\n",
            "(179, 2)\n",
            "(29, 2)\n",
            "(23, 2)\n",
            "(5, 2)\n",
            "(177, 2)\n",
            "(179, 2)\n",
            "(177, 2)\n",
            "(33, 2)\n",
            "(19, 2)\n",
            "(31, 2)\n",
            "(5, 2)\n",
            "(33, 2)\n",
            "(19, 2)\n",
            "(9, 2)\n",
            "(23, 2)\n",
            "(7, 2)\n",
            "(5, 2)\n",
            "(177, 2)\n",
            "(31, 2)\n",
            "(19, 2)\n"
          ],
          "name": "stdout"
        }
      ]
    },
    {
      "cell_type": "markdown",
      "metadata": {
        "id": "vGZdg4F3Yqg6",
        "colab_type": "text"
      },
      "source": [
        "**Contouring shapes**"
      ]
    },
    {
      "cell_type": "code",
      "metadata": {
        "id": "SLXGg_jvYtbA",
        "colab_type": "code",
        "colab": {}
      },
      "source": [
        "# Import the modules\n",
        "from skimage import data, measure\n",
        "\n",
        "# Obtain the horse image\n",
        "horse_image = data.horse()\n",
        "\n",
        "# Find the contours with a constant level value of 0.8\n",
        "contours = measure.find_contours(horse_image, 0.8)\n",
        "\n",
        "# Shows the image with contours found\n",
        "# show_image_contour(horse_image, contours)"
      ],
      "execution_count": 0,
      "outputs": []
    },
    {
      "cell_type": "code",
      "metadata": {
        "id": "wzq8FjbX5UT_",
        "colab_type": "code",
        "colab": {
          "base_uri": "https://localhost:8080/",
          "height": 269
        },
        "outputId": "9d225bcb-3e5d-4a29-93ea-4b8f12945630"
      },
      "source": [
        "plt.imshow(horse_image)\n",
        "plt.show()"
      ],
      "execution_count": 11,
      "outputs": [
        {
          "output_type": "display_data",
          "data": {
            "image/png": "[encoded data removed]",
            "text/plain": [
              "<Figure size 432x288 with 1 Axes>"
            ]
          },
          "metadata": {
            "tags": [],
            "needs_background": "light"
          }
        }
      ]
    },
    {
      "cell_type": "code",
      "metadata": {
        "id": "VwgL_5TK6HQe",
        "colab_type": "code",
        "colab": {
          "base_uri": "https://localhost:8080/",
          "height": 252
        },
        "outputId": "081bced2-562e-4129-91a4-13c16dda78a9"
      },
      "source": [
        "# Display the image and plot all contours found\n",
        "fig, ax = plt.subplots()\n",
        "ax.imshow(horse_image, cmap=plt.cm.gray)\n",
        "\n",
        "for n, contour in enumerate(contours):\n",
        "    ax.plot(contour[:, 1], contour[:, 0], linewidth=2)\n",
        "\n",
        "ax.axis('image')\n",
        "ax.set_xticks([])\n",
        "ax.set_yticks([])\n",
        "plt.show()"
      ],
      "execution_count": 12,
      "outputs": [
        {
          "output_type": "display_data",
          "data": {
            "image/png": "[encoded data removed]",
            "text/plain": [
              "<Figure size 432x288 with 1 Axes>"
            ]
          },
          "metadata": {
            "tags": []
          }
        }
      ]
    },
    {
      "cell_type": "markdown",
      "metadata": {
        "id": "biRb_OoBawra",
        "colab_type": "text"
      },
      "source": [
        "**Find contours of an image that is not binary**"
      ]
    },
    {
      "cell_type": "code",
      "metadata": {
        "id": "RbuaH0hMa064",
        "colab_type": "code",
        "outputId": "f05e0158-1e5b-4d89-ee0b-e4d9398b4565",
        "colab": {
          "base_uri": "https://localhost:8080/",
          "height": 204
        }
      },
      "source": [
        "# Load image\n",
        "!wget https://assets.datacamp.com/production/repositories/4470/datasets/b9bcf87a160d32d41517c9dc9429cc6b7ec10ac5/dices.png"
      ],
      "execution_count": 13,
      "outputs": [
        {
          "output_type": "stream",
          "text": [
            "--2020-04-26 23:53:35--  https://assets.datacamp.com/production/repositories/4470/datasets/b9bcf87a160d32d41517c9dc9429cc6b7ec10ac5/dices.png\n",
            "Resolving assets.datacamp.com (assets.datacamp.com)... 52.85.109.33, 52.85.109.88, 52.85.109.105, ...\n",
            "Connecting to assets.datacamp.com (assets.datacamp.com)|52.85.109.33|:443... connected.\n",
            "HTTP request sent, awaiting response... 200 OK\n",
            "Length: 3138 (3.1K) [image/png]\n",
            "Saving to: ‘dices.png’\n",
            "\n",
            "\rdices.png             0%[                    ]       0  --.-KB/s               \rdices.png           100%[===================>]   3.06K  --.-KB/s    in 0s      \n",
            "\n",
            "2020-04-26 23:53:35 (438 MB/s) - ‘dices.png’ saved [3138/3138]\n",
            "\n"
          ],
          "name": "stdout"
        }
      ]
    },
    {
      "cell_type": "code",
      "metadata": {
        "id": "QbwfhD0Aa5Xa",
        "colab_type": "code",
        "colab": {
          "base_uri": "https://localhost:8080/",
          "height": 285
        },
        "outputId": "db5f08f5-6101-402f-926d-e2a3c0c25cce"
      },
      "source": [
        "image_dices = plt.imread('dices.png')\n",
        "plt.imshow(image_dices)"
      ],
      "execution_count": 14,
      "outputs": [
        {
          "output_type": "execute_result",
          "data": {
            "text/plain": [
              "<matplotlib.image.AxesImage at 0x7f0219d55080>"
            ]
          },
          "metadata": {
            "tags": []
          },
          "execution_count": 14
        },
        {
          "output_type": "display_data",
          "data": {
            "image/png": "[encoded data removed]",
            "text/plain": [
              "<Figure size 432x288 with 1 Axes>"
            ]
          },
          "metadata": {
            "tags": [],
            "needs_background": "light"
          }
        }
      ]
    },
    {
      "cell_type": "code",
      "metadata": {
        "id": "k66BLV60bFWQ",
        "colab_type": "code",
        "colab": {}
      },
      "source": [
        "from skimage import filters\n",
        "\n",
        "# Make the image grayscale\n",
        "image_dices = color.rgb2gray(image_dices)\n",
        "\n",
        "# Obtain the optimal thresh value\n",
        "thresh = filters.threshold_otsu(image_dices)\n",
        "\n",
        "# Apply thresholding\n",
        "binary = image_dices > thresh\n",
        "\n",
        "# Find contours at a constant value of 0.8\n",
        "contours = measure.find_contours(binary, 0.8)\n",
        "\n",
        "# Show the image\n",
        "# show_image_contour(image_dices, contours)"
      ],
      "execution_count": 0,
      "outputs": []
    },
    {
      "cell_type": "code",
      "metadata": {
        "id": "TTcNBt3L6T1X",
        "colab_type": "code",
        "colab": {
          "base_uri": "https://localhost:8080/",
          "height": 252
        },
        "outputId": "99e57b23-bd08-4ffb-87bd-a5b769068349"
      },
      "source": [
        "# Display the image and plot all contours found\n",
        "fig, ax = plt.subplots()\n",
        "ax.imshow(image_dices, cmap=plt.cm.gray)\n",
        "\n",
        "for n, contour in enumerate(contours):\n",
        "    ax.plot(contour[:, 1], contour[:, 0], linewidth=2)\n",
        "\n",
        "ax.axis('image')\n",
        "ax.set_xticks([])\n",
        "ax.set_yticks([])\n",
        "plt.show()"
      ],
      "execution_count": 16,
      "outputs": [
        {
          "output_type": "display_data",
          "data": {
            "image/png": "[encoded data removed]",
            "text/plain": [
              "<Figure size 432x288 with 1 Axes>"
            ]
          },
          "metadata": {
            "tags": []
          }
        }
      ]
    },
    {
      "cell_type": "markdown",
      "metadata": {
        "id": "DaF6HEqvb90j",
        "colab_type": "text"
      },
      "source": [
        "**Count the dots in a dice's image**"
      ]
    },
    {
      "cell_type": "code",
      "metadata": {
        "id": "D4f3lmPdb_HY",
        "colab_type": "code",
        "outputId": "4a4c4475-2d31-4f48-8de2-07a529719d9b",
        "colab": {
          "base_uri": "https://localhost:8080/",
          "height": 34
        }
      },
      "source": [
        "# Create list with the shape of each contour\n",
        "shape_contours = [cnt.shape[0] for cnt in contours]\n",
        "\n",
        "# Set 50 as the maximum size of the dots shape\n",
        "max_dots_shape = 50\n",
        "\n",
        "# Count dots in contours excluding bigger than dots size\n",
        "dots_contours = [cnt for cnt in contours if np.shape(cnt)[0] < max_dots_shape]\n",
        "\n",
        "# Shows all contours found \n",
        "# show_image_contour(binary, contours)\n",
        "\n",
        "# Print the dice's number\n",
        "print(\"Dice's dots number: {}. \".format(len(dots_contours)))"
      ],
      "execution_count": 17,
      "outputs": [
        {
          "output_type": "stream",
          "text": [
            "Dice's dots number: 9. \n"
          ],
          "name": "stdout"
        }
      ]
    },
    {
      "cell_type": "markdown",
      "metadata": {
        "id": "R6_KWIBSWHgR",
        "colab_type": "text"
      },
      "source": [
        "*Personal notes on Image Processing with Python from Datacamp"
      ]
    }
  ]
}